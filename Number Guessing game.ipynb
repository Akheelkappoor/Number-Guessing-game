{
 "cells": [
  {
   "cell_type": "markdown",
   "id": "1dfeb140",
   "metadata": {},
   "source": [
    "## \n",
    "Number Guessing game"
   ]
  },
  {
   "cell_type": "code",
   "execution_count": 5,
   "id": "8a47ef9f",
   "metadata": {},
   "outputs": [],
   "source": [
    "import random "
   ]
  },
  {
   "cell_type": "code",
   "execution_count": 10,
   "id": "dc7da286",
   "metadata": {},
   "outputs": [
    {
     "name": "stdout",
     "output_type": "stream",
     "text": [
      "type you number: 6\n",
      "Random number 1\n",
      "make a guess: 6\n",
      "you where above the number!\n",
      "make a guess: 3\n",
      "you where above the number!\n",
      "make a guess: 2\n",
      "you where above the number!\n",
      "make a guess: 10\n",
      "you where above the number!\n",
      "make a guess: 12\n",
      "you where above the number!\n",
      "make a guess: 1\n",
      "you got it!\n",
      "you got it in 6 guesses\n"
     ]
    }
   ],
   "source": [
    "user = input(\"type you number: \")\n",
    "\n",
    "if user.isdigit():\n",
    "    user = int(user)\n",
    "    if user <= 0:\n",
    "        print(\"please type a number greater then 0\")\n",
    "        quit()\n",
    "else:\n",
    "    print(\"please type a number next time.\")\n",
    "    quit()\n",
    "    \n",
    "random_number = random.randint(0,user)\n",
    "print(\"Random number\",random_number)\n",
    "\n",
    "guess = 0\n",
    "\n",
    "while True:\n",
    "    guess += 1 \n",
    "    user_number = input(\"make a guess: \")\n",
    "    if user_number.isdigit():\n",
    "        user_number = int(user_number)\n",
    "        if user_number <= 0:\n",
    "            print(\"please type a number greater then 0\")\n",
    "            quit()\n",
    "    else:\n",
    "        print(\"please type a number next time.\")\n",
    "        quit()\n",
    "        continue\n",
    "        \n",
    "    if user_number == random_number:\n",
    "        print(\"you got it!\")\n",
    "        break\n",
    "    elif user_number > random_number:\n",
    "        print(\"you where above the number!\")\n",
    "    else:\n",
    "        print(\"you where below the number!\")\n",
    "print(\"you got it in\",guess,\"guesses\")\n",
    "\n",
    "\n",
    "    \n",
    "        \n"
   ]
  },
  {
   "cell_type": "markdown",
   "id": "795b7519",
   "metadata": {},
   "source": [
    "## "
   ]
  },
  {
   "cell_type": "code",
   "execution_count": null,
   "id": "86adbcc8",
   "metadata": {},
   "outputs": [],
   "source": []
  }
 ],
 "metadata": {
  "kernelspec": {
   "display_name": "Python 3 (ipykernel)",
   "language": "python",
   "name": "python3"
  },
  "language_info": {
   "codemirror_mode": {
    "name": "ipython",
    "version": 3
   },
   "file_extension": ".py",
   "mimetype": "text/x-python",
   "name": "python",
   "nbconvert_exporter": "python",
   "pygments_lexer": "ipython3",
   "version": "3.11.7"
  }
 },
 "nbformat": 4,
 "nbformat_minor": 5
}
